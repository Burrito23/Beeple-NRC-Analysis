{
 "cells": [
  {
   "cell_type": "code",
   "execution_count": null,
   "metadata": {},
   "outputs": [],
   "source": [
    "pip install pandas NRCLex nltk textblob networkx "
   ]
  },
  {
   "cell_type": "markdown",
   "metadata": {},
   "source": [
    "### 1 Librerias"
   ]
  },
  {
   "cell_type": "code",
   "execution_count": null,
   "metadata": {},
   "outputs": [],
   "source": [
    "import pandas as pd\n",
    "from nrclex import NRCLex\n",
    "import nltk\n",
    "nltk.download('punkt')\n",
    "print(nltk.data.path)"
   ]
  },
  {
   "cell_type": "markdown",
   "metadata": {},
   "source": [
    "### 2 Carga de datos"
   ]
  },
  {
   "cell_type": "code",
   "execution_count": 2,
   "metadata": {},
   "outputs": [],
   "source": [
    "# Cargar el archivo CSV\n",
    "tweets_df = pd.read_csv('direccion/del/archivo.csv')"
   ]
  },
  {
   "cell_type": "markdown",
   "metadata": {},
   "source": [
    "### 3 Analisis de emociones"
   ]
  },
  {
   "cell_type": "code",
   "execution_count": 4,
   "metadata": {},
   "outputs": [],
   "source": [
    "# Función para analizar emociones en un tweet\n",
    "def analyze_tweet_emotions(text):\n",
    "    emotion = NRCLex(text)\n",
    "    return emotion.raw_emotion_scores"
   ]
  },
  {
   "cell_type": "code",
   "execution_count": null,
   "metadata": {},
   "outputs": [],
   "source": [
    "# Aplicar el análisis de emociones a la columna 'text'\n",
    "tweets_df['emotions'] = tweets_df['text'].apply(analyze_tweet_emotions)\n",
    "\n",
    "# Extraemos las emociones del diccionario a columnas y reemplazamos NaN por 0\n",
    "tweets_df = pd.concat([tweets_df.drop(['emotions'], axis=1), tweets_df['emotions'].apply(pd.Series, dtype='float64')], axis=1).fillna(0)\n",
    "\n",
    "tweets_df.head(5)\n"
   ]
  },
  {
   "cell_type": "markdown",
   "metadata": {},
   "source": [
    "### 4 Visualizacion de datos"
   ]
  },
  {
   "cell_type": "code",
   "execution_count": 6,
   "metadata": {},
   "outputs": [],
   "source": [
    "# path para guardar los gráficos\n",
    "path = 'graficos/'"
   ]
  },
  {
   "cell_type": "code",
   "execution_count": null,
   "metadata": {},
   "outputs": [],
   "source": [
    "import numpy as np\n",
    "import seaborn as sns\n",
    "import matplotlib.pyplot as plt\n",
    "\n",
    "# Select only numeric columns for correlation matrix\n",
    "numeric_df = tweets_df.select_dtypes(include=[np.number])\n",
    "\n",
    "# Crear una matriz de correlación\n",
    "corr_matrix = numeric_df.corr()\n",
    "\n",
    "# Crear una máscara para el triángulo superior\n",
    "mask = np.triu(np.ones_like(corr_matrix, dtype=bool))\n",
    "\n",
    "# Crear la visualización de la matriz de correlación\n",
    "plt.figure(figsize=(10, 6))\n",
    "sns.heatmap(corr_matrix, mask=mask, annot=True, cmap='coolwarm', vmin=-1, vmax=1, \n",
    "            square=True, linewidths=.5, cbar_kws={\"shrink\": .5})\n",
    "plt.title('Triángulo superior de la matriz de correlación', fontsize=16)\n",
    "plt.tight_layout()\n",
    "plt.savefig(path + 'triangulo_matriz_correlacion.png')\n",
    "plt.show()"
   ]
  },
  {
   "cell_type": "code",
   "execution_count": null,
   "metadata": {},
   "outputs": [],
   "source": [
    "import networkx as nx\n",
    "import matplotlib.pyplot as plt\n",
    "\n",
    "def create_network(corr_matrix, threshold=0.5):\n",
    "    G = nx.Graph()\n",
    "    for i in range(len(corr_matrix.columns)):\n",
    "        for j in range(i+1, len(corr_matrix.columns)):\n",
    "            weight = corr_matrix.iloc[i, j]\n",
    "            if abs(weight) >= threshold:\n",
    "                G.add_edge(corr_matrix.columns[i], corr_matrix.columns[j], weight=weight)\n",
    "    return G\n",
    "\n",
    "G = create_network(corr_matrix)\n",
    "\n",
    "plt.figure(figsize=(10, 6))\n",
    "pos = nx.spring_layout(G)\n",
    "edges = G.edges()\n",
    "weights = [G[u][v]['weight'] for u,v in edges]\n",
    "\n",
    "nx.draw(G, pos, with_labels=True, node_color='lightblue', \n",
    "        node_size=3000, font_size=10, font_weight='bold')\n",
    "\n",
    "edge_labels = nx.get_edge_attributes(G, 'weight')\n",
    "nx.draw_networkx_edge_labels(G, pos, edge_labels=edge_labels)\n",
    "\n",
    "plt.title('Red de correlaciones entre emociones', fontsize=16)\n",
    "plt.axis('off')\n",
    "plt.tight_layout()\n",
    "plt.savefig(path + 'red_correlaciones_emociones.png')\n",
    "plt.show()"
   ]
  },
  {
   "cell_type": "code",
   "execution_count": null,
   "metadata": {},
   "outputs": [],
   "source": [
    "# Creamos el gráfico de barras para ver que emociones encontramos en los tweets, normalizado\n",
    "emotions = tweets_df.drop(['text'], axis=1).sum().sort_values(ascending=False)\n",
    "emotions = emotions / emotions.sum()\n",
    "\n",
    "# Creamos el gráfico de barras\n",
    "plt.figure(figsize=(10, 6))\n",
    "sns.barplot(x=emotions.values, y=emotions.index, palette='viridis')\n",
    "plt.title('Distribución de Emociones en los Tweets', fontsize=16)\n",
    "plt.xlabel('Proporción', fontsize=12)\n",
    "plt.ylabel('Emoción', fontsize=12)\n",
    "plt.tight_layout()\n",
    "plt.savefig(path + 'distribucion_emociones_tweets.png')\n",
    "plt.show()"
   ]
  },
  {
   "cell_type": "markdown",
   "metadata": {},
   "source": [
    "### Guardamos la data"
   ]
  },
  {
   "cell_type": "code",
   "execution_count": 10,
   "metadata": {},
   "outputs": [],
   "source": [
    "# Función para guardar el DataFrame a un nuevo CSV\n",
    "def save_to_csv(df, save_path):\n",
    "    df.to_csv(save_path, index=False)\n",
    "    print(f\"Archivo guardado en: {save_path}\")"
   ]
  },
  {
   "cell_type": "code",
   "execution_count": null,
   "metadata": {},
   "outputs": [],
   "source": [
    "# Guardar el DataFrame con las emociones\n",
    "save_path = 'direccion/a/guardar/el/nuevo/archivo.csv'\n",
    "save_to_csv(tweets_df, save_path)"
   ]
  },
  {
   "cell_type": "code",
   "execution_count": null,
   "metadata": {},
   "outputs": [],
   "source": []
  },
  {
   "cell_type": "markdown",
   "metadata": {},
   "source": []
  }
 ],
 "metadata": {
  "kernelspec": {
   "display_name": "selenium_env_scrappreplies",
   "language": "python",
   "name": "python3"
  },
  "language_info": {
   "codemirror_mode": {
    "name": "ipython",
    "version": 3
   },
   "file_extension": ".py",
   "mimetype": "text/x-python",
   "name": "python",
   "nbconvert_exporter": "python",
   "pygments_lexer": "ipython3",
   "version": "3.11.7"
  }
 },
 "nbformat": 4,
 "nbformat_minor": 2
}
