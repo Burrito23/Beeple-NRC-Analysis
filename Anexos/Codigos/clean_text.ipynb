{
 "cells": [
  {
   "cell_type": "markdown",
   "metadata": {},
   "source": [
    "### 1 Limpieza de datos"
   ]
  },
  {
   "cell_type": "code",
   "execution_count": 1,
   "metadata": {},
   "outputs": [],
   "source": [
    "import pandas as pd\n",
    "import re"
   ]
  },
  {
   "cell_type": "code",
   "execution_count": 18,
   "metadata": {},
   "outputs": [],
   "source": [
    "# Cargar el archivo CSV\n",
    "tweets_df = pd.read_csv('direccion/en/la/que/se/encuentra/el/archivo.csv')"
   ]
  },
  {
   "cell_type": "code",
   "execution_count": 19,
   "metadata": {},
   "outputs": [],
   "source": [
    "# Función para limpiar los tweets\n",
    "def clean_tweet(text):\n",
    "    text = str(text)\n",
    "    text = re.sub(r\"&amp\", \"\", text)\n",
    "    text = re.sub(r\"(RT|via)((?:\\b\\W*@\\w+)+)\", \"\", text)\n",
    "    text = re.sub(r\"@\\w+\", \"\", text)\n",
    "    text = re.sub(r\"[[:punct:]]\", \"\", text)\n",
    "    text = re.sub(r\"\\d+\", \"\", text)\n",
    "    text = re.sub(r\"http\\w+\", \"\", text)\n",
    "    text = re.sub(r\"[ \\t]{2,}\", \"\", text)\n",
    "    text = re.sub(r\"^\\s+|\\s+$\", \"\", text)\n",
    "    text = re.sub(r'[\\U0001F600-\\U0001F64F'  # Emoticons\n",
    "                  r'\\U0001F300-\\U0001F5FF'  # Symbols & Pictographs\n",
    "                  r'\\U0001F680-\\U0001F6FF'  # Transport & Map Symbols\n",
    "                  r'\\U0001F700-\\U0001F77F'  # Alchemical Symbols\n",
    "                  r'\\U0001F780-\\U0001F7FF'  # Geometric Shapes Extended\n",
    "                  r'\\U0001F800-\\U0001F8FF'  # Supplemental Arrows-C\n",
    "                  r'\\U0001F900-\\U0001F9FF'  # Supplemental Symbols and Pictographs\n",
    "                  r'\\U0001FA00-\\U0001FA6F'  # Chess Symbols\n",
    "                  r'\\U0001FA70-\\U0001FAFF'  # Symbols and Pictographs Extended-A\n",
    "                  r'\\U00002702-\\U000027B0'  # Dingbats\n",
    "                  r'\\U000024C2-\\U0001F251]+', '', text)  # Enclosed Characters and Enclosed Alphanumeric\n",
    "    text = text.lower()\n",
    "    return text\n",
    "\n",
    "# Aplicar la limpieza a la columna 'text'\n",
    "tweets_df['clean_text'] = tweets_df['text'].apply(clean_tweet)"
   ]
  },
  {
   "cell_type": "code",
   "execution_count": null,
   "metadata": {},
   "outputs": [],
   "source": [
    "print(f\"Tamaño del df antes del tratamiento: {len(tweets_df)}\")\n",
    "print(\"===============================================================\")\n",
    "\n",
    "# Eliminar los tweets nulos\n",
    "print(f\"Nulos antes de limpiar: {tweets_df['text'].isnull().sum()}\")\n",
    "tweets_df = tweets_df.dropna(subset=['text'])\n",
    "\n",
    "# reemplazar floats a strings\n",
    "tweets_df['text'] = tweets_df['text'].astype(str)\n",
    "\n",
    "print(\"===============================================================\")\n",
    "print(f\"Tamaño del df limpio: {len(tweets_df)}\")"
   ]
  },
  {
   "cell_type": "code",
   "execution_count": 20,
   "metadata": {},
   "outputs": [],
   "source": [
    "# Guardar el DataFrame actualizado en un nuevo archivo CSV\n",
    "tweets_df.to_csv('direccion/donde/se/guardara/el/nuevo/archivo.csv', index=False)"
   ]
  }
 ],
 "metadata": {
  "kernelspec": {
   "display_name": "selenium_env_scrappreplies",
   "language": "python",
   "name": "python3"
  },
  "language_info": {
   "codemirror_mode": {
    "name": "ipython",
    "version": 3
   },
   "file_extension": ".py",
   "mimetype": "text/x-python",
   "name": "python",
   "nbconvert_exporter": "python",
   "pygments_lexer": "ipython3",
   "version": "3.11.9"
  }
 },
 "nbformat": 4,
 "nbformat_minor": 2
}
